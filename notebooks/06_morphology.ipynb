{
  "cells": [
    {
      "cell_type": "markdown",
      "metadata": {},
      "source": [
        "# Morfología\n\nNotebook de demostración para morfología. Ejecuta las celdas en Google Colab.\n"
      ]
    },
    {
      "cell_type": "code",
      "metadata": {},
      "execution_count": null,
      "outputs": [],
      "source": [
        "!pip install -q opencv-python-headless numpy matplotlib\n"
      ]
    },
    {
      "cell_type": "code",
      "metadata": {},
      "execution_count": null,
      "outputs": [],
      "source": [
        "import os\nimport cv2\nimport numpy as np\nimport matplotlib.pyplot as plt\n\nclass ImageProcessor:\n    \"\"\"Clase para demostrar operaciones principales de procesamiento de imágenes.\"\"\"\n\n    def __init__(self):\n        self.current_image = None\n\n    def load_image(self, image_path: str | None = None, create_sample: bool = True):\n        \"\"\"Cargar una imagen desde disco o crear una imagen sintética.\n\n        Parameters\n        ----------\n        image_path: str | None\n            Ruta al archivo de imagen.\n        create_sample: bool\n            Si no se provee una ruta, genera una imagen sintética.\n        \"\"\"\n        if image_path and os.path.exists(image_path):\n            self.current_image = cv2.imread(image_path)\n            self.current_image = cv2.cvtColor(self.current_image, cv2.COLOR_BGR2RGB)\n            print(f\"Imagen cargada: {image_path}\")\n        elif create_sample:\n            self.current_image = self._create_sample_image()\n            print(\"Imagen sintética creada para demostración\")\n        else:\n            raise ValueError(\"No se pudo cargar la imagen\")\n\n        print(f\"Dimensiones: {self.current_image.shape}\")\n        return self.current_image\n\n    def _create_sample_image(self):\n        \"\"\"Crear una imagen sintética con patrones simples.\"\"\"\n        img = np.zeros((300, 400, 3), dtype=np.uint8)\n\n        for i in range(300):\n            img[i, :, 0] = int(255 * i / 300)  # Gradiente rojo\n\n        img[50:150, 50:150, 2] = 255  # Rectángulo azul\n        cv2.circle(img, (300, 100), 50, (0, 255, 0), -1)  # Círculo verde\n\n        noise = np.random.randint(0, 50, img.shape, dtype=np.uint8)\n        img = np.clip(img.astype(np.int16) + noise, 0, 255).astype(np.uint8)\n        return img\n\n\"\"\"Operaciones morfológicas básicas.\"\"\"\n\n\n\n\ndef run():\n    \"\"\"Demostrar operaciones morfológicas.\"\"\"\n    print(\"=\" * 60)\n    print(\"6. OPERACIONES MORFOLÓGICAS\")\n    print(\"=\" * 60)\n\n    processor = ImageProcessor()\n    img = processor.load_image()\n    img_gray = cv2.cvtColor(img, cv2.COLOR_RGB2GRAY)\n\n    _, img_binary = cv2.threshold(img_gray, 127, 255, cv2.THRESH_BINARY)\n    kernel = cv2.getStructuringElement(cv2.MORPH_RECT, (5, 5))\n\n    fig, axes = plt.subplots(2, 4, figsize=(16, 8))\n    fig.suptitle(\"Operaciones Morfológicas\", fontsize=16)\n\n    axes[0, 0].imshow(img_binary, cmap=\"gray\")\n    axes[0, 0].set_title(\"Imagen Binaria\")\n    axes[0, 0].axis(\"off\")\n\n    erosion = cv2.erode(img_binary, kernel, iterations=1)\n    axes[0, 1].imshow(erosion, cmap=\"gray\")\n    axes[0, 1].set_title(\"Erosión\")\n    axes[0, 1].axis(\"off\")\n\n    dilation = cv2.dilate(img_binary, kernel, iterations=1)\n    axes[0, 2].imshow(dilation, cmap=\"gray\")\n    axes[0, 2].set_title(\"Dilatación\")\n    axes[0, 2].axis(\"off\")\n\n    opening = cv2.morphologyEx(img_binary, cv2.MORPH_OPEN, kernel)\n    axes[0, 3].imshow(opening, cmap=\"gray\")\n    axes[0, 3].set_title(\"Apertura\")\n    axes[0, 3].axis(\"off\")\n\n    closing = cv2.morphologyEx(img_binary, cv2.MORPH_CLOSE, kernel)\n    axes[1, 0].imshow(closing, cmap=\"gray\")\n    axes[1, 0].set_title(\"Cierre\")\n    axes[1, 0].axis(\"off\")\n\n    gradient = cv2.morphologyEx(img_binary, cv2.MORPH_GRADIENT, kernel)\n    axes[1, 1].imshow(gradient, cmap=\"gray\")\n    axes[1, 1].set_title(\"Gradiente\")\n    axes[1, 1].axis(\"off\")\n\n    tophat = cv2.morphologyEx(img_gray, cv2.MORPH_TOPHAT, kernel)\n    axes[1, 2].imshow(tophat, cmap=\"gray\")\n    axes[1, 2].set_title(\"Top Hat\")\n    axes[1, 2].axis(\"off\")\n\n    blackhat = cv2.morphologyEx(img_gray, cv2.MORPH_BLACKHAT, kernel)\n    axes[1, 3].imshow(blackhat, cmap=\"gray\")\n    axes[1, 3].set_title(\"Black Hat\")\n    axes[1, 3].axis(\"off\")\n\n    plt.tight_layout()\n    plt.show()\n\n\nrun()\n"
      ]
    }
  ],
  "metadata": {
    "kernelspec": {
      "display_name": "Python 3",
      "language": "python",
      "name": "python3"
    },
    "language_info": {
      "name": "python"
    },
    "colab": {
      "name": "06_morphology.ipynb"
    }
  },
  "nbformat": 4,
  "nbformat_minor": 5
}