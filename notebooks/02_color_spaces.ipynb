{
  "cells": [
    {
      "cell_type": "markdown",
      "metadata": {},
      "source": [
        "# Espacios de color\n\nNotebook de demostración para espacios de color. Ejecuta las celdas en Google Colab.\n"
      ]
    },
    {
      "cell_type": "code",
      "metadata": {},
      "execution_count": null,
      "outputs": [],
      "source": [
        "!pip install -q opencv-python-headless numpy matplotlib\n"
      ]
    },
    {
      "cell_type": "code",
      "metadata": {},
      "execution_count": null,
      "outputs": [],
      "source": [
        "import os\nimport cv2\nimport numpy as np\nimport matplotlib.pyplot as plt\n\nclass ImageProcessor:\n    \"\"\"Clase para demostrar operaciones principales de procesamiento de imágenes.\"\"\"\n\n    def __init__(self):\n        self.current_image = None\n\n    def load_image(self, image_path: str | None = None, create_sample: bool = True):\n        \"\"\"Cargar una imagen desde disco o crear una imagen sintética.\n\n        Parameters\n        ----------\n        image_path: str | None\n            Ruta al archivo de imagen.\n        create_sample: bool\n            Si no se provee una ruta, genera una imagen sintética.\n        \"\"\"\n        if image_path and os.path.exists(image_path):\n            self.current_image = cv2.imread(image_path)\n            self.current_image = cv2.cvtColor(self.current_image, cv2.COLOR_BGR2RGB)\n            print(f\"Imagen cargada: {image_path}\")\n        elif create_sample:\n            self.current_image = self._create_sample_image()\n            print(\"Imagen sintética creada para demostración\")\n        else:\n            raise ValueError(\"No se pudo cargar la imagen\")\n\n        print(f\"Dimensiones: {self.current_image.shape}\")\n        return self.current_image\n\n    def _create_sample_image(self):\n        \"\"\"Crear una imagen sintética con patrones simples.\"\"\"\n        img = np.zeros((300, 400, 3), dtype=np.uint8)\n\n        for i in range(300):\n            img[i, :, 0] = int(255 * i / 300)  # Gradiente rojo\n\n        img[50:150, 50:150, 2] = 255  # Rectángulo azul\n        cv2.circle(img, (300, 100), 50, (0, 255, 0), -1)  # Círculo verde\n\n        noise = np.random.randint(0, 50, img.shape, dtype=np.uint8)\n        img = np.clip(img.astype(np.int16) + noise, 0, 255).astype(np.uint8)\n        return img\n\n\"\"\"Conversiones y segmentación en distintos espacios de color.\"\"\"\n\n\n\n\ndef run():\n    \"\"\"Demostrar conversiones entre espacios de color y segmentación.\"\"\"\n    print(\"=\" * 60)\n    print(\"2. ESPACIOS DE COLOR\")\n    print(\"=\" * 60)\n\n    processor = ImageProcessor()\n    img_rgb = processor.load_image()\n\n    img_gray = cv2.cvtColor(img_rgb, cv2.COLOR_RGB2GRAY)\n    img_hsv = cv2.cvtColor(img_rgb, cv2.COLOR_RGB2HSV)\n    img_lab = cv2.cvtColor(img_rgb, cv2.COLOR_RGB2LAB)\n\n    fig, axes = plt.subplots(2, 3, figsize=(15, 10))\n    fig.suptitle(\"Espacios de Color\", fontsize=16)\n\n    axes[0, 0].imshow(img_rgb)\n    axes[0, 0].set_title(\"RGB Original\")\n    axes[0, 0].axis(\"off\")\n\n    axes[0, 1].imshow(img_gray, cmap=\"gray\")\n    axes[0, 1].set_title(\"Escala de Grises\")\n    axes[0, 1].axis(\"off\")\n\n    axes[0, 2].imshow(img_hsv)\n    axes[0, 2].set_title(\"HSV\")\n    axes[0, 2].axis(\"off\")\n\n    axes[1, 0].imshow(img_hsv[:, :, 0], cmap=\"hsv\")\n    axes[1, 0].set_title(\"Canal H (Matiz)\")\n    axes[1, 0].axis(\"off\")\n\n    axes[1, 1].imshow(img_hsv[:, :, 1], cmap=\"gray\")\n    axes[1, 1].set_title(\"Canal S (Saturación)\")\n    axes[1, 1].axis(\"off\")\n\n    axes[1, 2].imshow(img_hsv[:, :, 2], cmap=\"gray\")\n    axes[1, 2].set_title(\"Canal V (Valor)\")\n    axes[1, 2].axis(\"off\")\n\n    plt.tight_layout()\n    plt.show()\n\n    print(\"\\n--- Ejemplo práctico: Segmentación por color ---\")\n\n    lower_green = np.array([35, 50, 50])\n    upper_green = np.array([85, 255, 255])\n\n    mask_green = cv2.inRange(img_hsv, lower_green, upper_green)\n    result = cv2.bitwise_and(img_rgb, img_rgb, mask=mask_green)\n\n    fig, axes = plt.subplots(1, 3, figsize=(15, 5))\n    axes[0].imshow(img_rgb)\n    axes[0].set_title(\"Imagen Original\")\n    axes[0].axis(\"off\")\n\n    axes[1].imshow(mask_green, cmap=\"gray\")\n    axes[1].set_title(\"Máscara Verde\")\n    axes[1].axis(\"off\")\n\n    axes[2].imshow(result)\n    axes[2].set_title(\"Solo Píxeles Verdes\")\n    axes[2].axis(\"off\")\n\n    plt.tight_layout()\n    plt.show()\n\n\nrun()\n"
      ]
    }
  ],
  "metadata": {
    "kernelspec": {
      "display_name": "Python 3",
      "language": "python",
      "name": "python3"
    },
    "language_info": {
      "name": "python"
    },
    "colab": {
      "name": "02_color_spaces.ipynb"
    }
  },
  "nbformat": 4,
  "nbformat_minor": 5
}