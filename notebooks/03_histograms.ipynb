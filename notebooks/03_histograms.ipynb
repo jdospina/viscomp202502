{
  "cells": [
    {
      "cell_type": "markdown",
      "metadata": {},
      "source": [
        "# Histogramas y transformaciones\n\nNotebook de demostración para histogramas y transformaciones. Ejecuta las celdas en Google Colab.\n"
      ]
    },
    {
      "cell_type": "code",
      "metadata": {},
      "execution_count": null,
      "outputs": [],
      "source": [
        "!pip install -q opencv-python-headless numpy matplotlib\n"
      ]
    },
    {
      "cell_type": "code",
      "metadata": {},
      "execution_count": null,
      "outputs": [],
      "source": [
        "import os\nimport cv2\nimport numpy as np\nimport matplotlib.pyplot as plt\n\nclass ImageProcessor:\n    \"\"\"Clase para demostrar operaciones principales de procesamiento de imágenes.\"\"\"\n\n    def __init__(self):\n        self.current_image = None\n\n    def load_image(self, image_path: str | None = None, create_sample: bool = True):\n        \"\"\"Cargar una imagen desde disco o crear una imagen sintética.\n\n        Parameters\n        ----------\n        image_path: str | None\n            Ruta al archivo de imagen.\n        create_sample: bool\n            Si no se provee una ruta, genera una imagen sintética.\n        \"\"\"\n        if image_path and os.path.exists(image_path):\n            self.current_image = cv2.imread(image_path)\n            self.current_image = cv2.cvtColor(self.current_image, cv2.COLOR_BGR2RGB)\n            print(f\"Imagen cargada: {image_path}\")\n        elif create_sample:\n            self.current_image = self._create_sample_image()\n            print(\"Imagen sintética creada para demostración\")\n        else:\n            raise ValueError(\"No se pudo cargar la imagen\")\n\n        print(f\"Dimensiones: {self.current_image.shape}\")\n        return self.current_image\n\n    def _create_sample_image(self):\n        \"\"\"Crear una imagen sintética con patrones simples.\"\"\"\n        img = np.zeros((300, 400, 3), dtype=np.uint8)\n\n        for i in range(300):\n            img[i, :, 0] = int(255 * i / 300)  # Gradiente rojo\n\n        img[50:150, 50:150, 2] = 255  # Rectángulo azul\n        cv2.circle(img, (300, 100), 50, (0, 255, 0), -1)  # Círculo verde\n\n        noise = np.random.randint(0, 50, img.shape, dtype=np.uint8)\n        img = np.clip(img.astype(np.int16) + noise, 0, 255).astype(np.uint8)\n        return img\n\n\"\"\"Transformaciones de intensidad y análisis de histogramas.\"\"\"\n\n\n\n\ndef run():\n    \"\"\"Demostrar operaciones con histogramas y transformaciones de intensidad.\"\"\"\n    print(\"=\" * 60)\n    print(\"3. HISTOGRAMAS Y TRANSFORMACIONES DE INTENSIDAD\")\n    print(\"=\" * 60)\n\n    processor = ImageProcessor()\n    img = processor.load_image()\n    img_gray = cv2.cvtColor(img, cv2.COLOR_RGB2GRAY)\n\n    fig, axes = plt.subplots(2, 4, figsize=(16, 8))\n    fig.suptitle(\"Histogramas y Transformaciones de Intensidad\", fontsize=16)\n\n    axes[0, 0].imshow(img_gray, cmap=\"gray\")\n    axes[0, 0].set_title(\"Original\")\n    axes[0, 0].axis(\"off\")\n\n    hist_original = cv2.calcHist([img_gray], [0], None, [256], [0, 256])\n    axes[1, 0].plot(hist_original)\n    axes[1, 0].set_title(\"Histograma Original\")\n    axes[1, 0].set_xlim([0, 256])\n\n    img_eq = cv2.equalizeHist(img_gray)\n    axes[0, 1].imshow(img_eq, cmap=\"gray\")\n    axes[0, 1].set_title(\"Ecualizada\")\n    axes[0, 1].axis(\"off\")\n\n    hist_eq = cv2.calcHist([img_eq], [0], None, [256], [0, 256])\n    axes[1, 1].plot(hist_eq)\n    axes[1, 1].set_title(\"Histograma Ecualizado\")\n    axes[1, 1].set_xlim([0, 256])\n\n    clahe = cv2.createCLAHE(clipLimit=2.0, tileGridSize=(8, 8))\n    img_clahe = clahe.apply(img_gray)\n    axes[0, 2].imshow(img_clahe, cmap=\"gray\")\n    axes[0, 2].set_title(\"CLAHE\")\n    axes[0, 2].axis(\"off\")\n\n    hist_clahe = cv2.calcHist([img_clahe], [0], None, [256], [0, 256])\n    axes[1, 2].plot(hist_clahe)\n    axes[1, 2].set_title(\"Histograma CLAHE\")\n    axes[1, 2].set_xlim([0, 256])\n\n    gamma = 0.5\n    img_gamma = np.array(255 * (img_gray / 255) ** gamma, dtype=np.uint8)\n    axes[0, 3].imshow(img_gamma, cmap=\"gray\")\n    axes[0, 3].set_title(f\"Gamma = {gamma}\")\n    axes[0, 3].axis(\"off\")\n\n    hist_gamma = cv2.calcHist([img_gamma], [0], None, [256], [0, 256])\n    axes[1, 3].plot(hist_gamma)\n    axes[1, 3].set_title(\"Histograma Gamma\")\n    axes[1, 3].set_xlim([0, 256])\n\n    plt.tight_layout()\n    plt.show()\n\n\nrun()\n"
      ]
    }
  ],
  "metadata": {
    "kernelspec": {
      "display_name": "Python 3",
      "language": "python",
      "name": "python3"
    },
    "language_info": {
      "name": "python"
    },
    "colab": {
      "name": "03_histograms.ipynb"
    }
  },
  "nbformat": 4,
  "nbformat_minor": 5
}