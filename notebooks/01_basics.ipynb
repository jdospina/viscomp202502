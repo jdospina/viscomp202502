{
  "cells": [
    {
      "cell_type": "markdown",
      "metadata": {
        "id": "view-in-github",
        "colab_type": "text"
      },
      "source": [
        "<a href=\"https://colab.research.google.com/github/jdospina/viscomp202502/blob/main/notebooks/01_basics.ipynb\" target=\"_parent\"><img src=\"https://colab.research.google.com/assets/colab-badge.svg\" alt=\"Open In Colab\"/></a>"
      ]
    },
    {
      "cell_type": "markdown",
      "metadata": {
        "id": "bMgLVXp_0l9B"
      },
      "source": [
        "# Introducción a la Visión por Computador\n",
        "\n",
        "Notebook de demostración para operaciones básicas sobre imágenes con `numpy` y `opencv`. Ejecuta las celdas en Google Colab.\n",
        "\n",
        "**Universidad Nacional de Colombia**\n",
        "\n",
        "Departamento de Ciencias de la Computación y de la Decisión\n",
        "\n",
        "Profesor Juan David Ospina\n",
        "\n",
        "\n",
        "Semestre 2025-02\n",
        "\n",
        "\n",
        "Notebook de demostración para operaciones básicas. Ejecuta las celdas en Google Colab.\n"
      ],
      "id": "bMgLVXp_0l9B"
    },
    {
      "cell_type": "code",
      "execution_count": null,
      "metadata": {
        "id": "6LG5zZgx0l9F"
      },
      "outputs": [],
      "source": [
        "# Importación de lib\n",
        "import os\n",
        "import cv2\n",
        "import numpy as np\n",
        "import matplotlib.pyplot as plt"
      ],
      "id": "6LG5zZgx0l9F"
    },
    {
      "cell_type": "markdown",
      "id": "87e7ebb0",
      "metadata": {
        "id": "87e7ebb0"
      },
      "source": [
        "La siguiente clase generará una imagen de prueba. Esta imagen puede ser provista por el usuario o, si el usuario no la provee, generará una imagen sintética."
      ]
    },
    {
      "cell_type": "code",
      "execution_count": null,
      "id": "a165ef5b",
      "metadata": {
        "id": "a165ef5b"
      },
      "outputs": [],
      "source": [
        "class ImageProcessor:\n",
        "    \"\"\"Clase para demostrar operaciones principales de procesamiento de imágenes.\"\"\"\n",
        "\n",
        "    def __init__(self):\n",
        "        self.current_image = None\n",
        "\n",
        "    def load_image(self, image_path: str | None = None, create_sample: bool = True):\n",
        "        \"\"\"Cargar una imagen desde disco o crear una imagen sintética.\n",
        "\n",
        "        Parameters\n",
        "        ----------\n",
        "        image_path: str | None\n",
        "            Ruta al archivo de imagen.\n",
        "        create_sample: bool\n",
        "            Si no se provee una ruta, genera una imagen sintética.\n",
        "        \"\"\"\n",
        "        if image_path and os.path.exists(image_path):\n",
        "            self.current_image = cv2.imread(image_path)\n",
        "            self.current_image = cv2.cvtColor(self.current_image, cv2.COLOR_BGR2RGB)\n",
        "            print(f\"Imagen cargada: {image_path}\")\n",
        "        elif create_sample:\n",
        "            self.current_image = self._create_sample_image()\n",
        "            print(\"Imagen sintética creada para demostración\")\n",
        "        else:\n",
        "            raise ValueError(\"No se pudo cargar la imagen\")\n",
        "\n",
        "        print(f\"Dimensiones: {self.current_image.shape}\")\n",
        "        return self.current_image\n",
        "\n",
        "    def _create_sample_image(self):\n",
        "        \"\"\"Crear una imagen sintética con patrones simples.\"\"\"\n",
        "        img = np.zeros((300, 400, 3), dtype=np.uint8)\n",
        "\n",
        "        for i in range(300):\n",
        "            img[i, :, 0] = int(255 * i / 300)  # Gradiente rojo\n",
        "\n",
        "        img[50:150, 50:150, 2] = 255  # Rectángulo azul\n",
        "        cv2.circle(img, (300, 100), 50, (0, 255, 0), -1)  # Círculo verde\n",
        "\n",
        "        noise = np.random.randint(0, 50, img.shape, dtype=np.uint8)\n",
        "        img = np.clip(img.astype(np.int16) + noise, 0, 255).astype(np.uint8)\n",
        "        return img\n",
        "\n"
      ]
    },
    {
      "cell_type": "code",
      "execution_count": null,
      "id": "b985a084",
      "metadata": {
        "id": "b985a084"
      },
      "outputs": [],
      "source": [
        "\"\"\"Demostrar operaciones básicas de manipulación de imágenes.\"\"\"\n",
        "print(\"=\" * 60)\n",
        "print(\"1. OPERACIONES BÁSICAS DE MANIPULACIÓN\")\n",
        "print(\"=\" * 60)\n",
        "\n",
        "processor = ImageProcessor()\n",
        "img = processor.load_image(\"/content/paisaje.jpg\")\n",
        "\n",
        "fig, axes = plt.subplots(2, 3, figsize=(15, 10))\n",
        "fig.suptitle(\"Operaciones Básicas de Manipulación\", fontsize=16)\n",
        "\n",
        "axes[0, 0].imshow(img)\n",
        "axes[0, 0].set_title(\"Original\")\n",
        "axes[0, 0].axis(\"off\")\n",
        "\n",
        "img_resized = cv2.resize(img, (200, 150))\n",
        "axes[0, 1].imshow(img_resized)\n",
        "axes[0, 1].set_title(\"Redimensionada (200x150)\")\n",
        "axes[0, 1].axis(\"off\")\n",
        "\n",
        "center = (img.shape[1] // 2, img.shape[0] // 2)\n",
        "rotation_matrix = cv2.getRotationMatrix2D(center, 45, 1.0)\n",
        "img_rotated = cv2.warpAffine(img, rotation_matrix, (img.shape[1], img.shape[0]))\n",
        "axes[0, 2].imshow(img_rotated)\n",
        "axes[0, 2].set_title(\"Rotación 45°\")\n",
        "axes[0, 2].axis(\"off\")\n",
        "\n",
        "img_cropped = img[50:200, 50:300]\n",
        "axes[1, 0].imshow(img_cropped)\n",
        "axes[1, 0].set_title(\"Recortada\")\n",
        "axes[1, 0].axis(\"off\")\n",
        "\n",
        "img_flipped = cv2.flip(img, 1)\n",
        "axes[1, 1].imshow(img_flipped)\n",
        "axes[1, 1].set_title(\"Volteo Horizontal\")\n",
        "axes[1, 1].axis(\"off\")\n",
        "\n",
        "img_vflipped = cv2.flip(img, 0)\n",
        "axes[1, 2].imshow(img_vflipped)\n",
        "axes[1, 2].set_title(\"Volteo Vertical\")\n",
        "axes[1, 2].axis(\"off\")\n",
        "\n",
        "plt.tight_layout()\n",
        "plt.show()\n",
        "\n",
        "\n",
        "\n",
        "\n"
      ]
    }
  ],
  "metadata": {
    "colab": {
      "name": "01_basics.ipynb",
      "provenance": [],
      "include_colab_link": true
    },
    "kernelspec": {
      "display_name": "ml_curso",
      "language": "python",
      "name": "python3"
    },
    "language_info": {
      "codemirror_mode": {
        "name": "ipython",
        "version": 3
      },
      "file_extension": ".py",
      "mimetype": "text/x-python",
      "name": "python",
      "nbconvert_exporter": "python",
      "pygments_lexer": "ipython3",
      "version": "3.11.5"
    }
  },
  "nbformat": 4,
  "nbformat_minor": 5
}